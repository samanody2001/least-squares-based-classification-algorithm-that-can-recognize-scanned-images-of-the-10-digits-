{
  "cells": [
    {
      "cell_type": "code",
      "execution_count": 40,
      "metadata": {
        "id": "YBBvHmPmH-XB"
      },
      "outputs": [],
      "source": [
        "import pandas as pd\n",
        "import numpy as np\n",
        "from PIL import Image\n",
        "from sklearn.metrics import confusion_matrix, ConfusionMatrixDisplay"
      ]
    },
    {
      "cell_type": "code",
      "execution_count": null,
      "metadata": {
        "id": "E4r_XM5EX4ki"
      },
      "outputs": [],
      "source": [
        "from zipfile import ZipFile\n",
        "file_name = '/content/Data.zip'\n",
        "with ZipFile(file_name, 'r') as zip:\n",
        "  zip.extractall()"
      ]
    },
    {
      "cell_type": "code",
      "execution_count": 41,
      "metadata": {
        "id": "L5UKvZoG1eS9"
      },
      "outputs": [],
      "source": [
        "#looping on Train folder to get image and turn it to an array \n",
        "img_Train = np.ones([2400, 785])\n",
        "for i in range(2400): \n",
        "  path = '/content/Data/Train/' + str(i+1) + \".jpg\"\n",
        "  img = Image.open(path)\n",
        "  image = np.append(np.asarray(img), [1])\n",
        "  img_Train[i] =  image\n",
        "\n",
        "#looping on Test folder to get image and turn it to an array\n",
        "img_test = np.ones([200, 785])\n",
        "for i in range(200):\n",
        "  path = '/content/Data/Test/' + str(i+1) + \".jpg\"\n",
        "  img = Image.open(path)\n",
        "  image = np.append(np.asarray(img), [1])\n",
        "  img_test[i] =  image"
      ]
    },
    {
      "cell_type": "code",
      "execution_count": 42,
      "metadata": {
        "id": "S1R2d9Yg7cqW"
      },
      "outputs": [],
      "source": [
        "X = img_Train\n",
        "xTranspose = X.transpose()\n",
        "m1 = np.dot(xTranspose, X)\n",
        "m2 = np.dot(np.linalg.pinv(m1), xTranspose)\n",
        "\n",
        "result = np.ones([200])\n",
        "for i in range(200):\n",
        "  n = 0\n",
        "  prediction = np.zeros([1])\n",
        "  diffrence = np.zeros([10])\n",
        "  for j in range(10):\n",
        "    t = np.ones([2400]) * -1\n",
        "    for x in range (240):\n",
        "      t[(n * 240)+x] *= -1\n",
        "    W = np.dot(m2, t)\n",
        "    n += 1\n",
        "    prediction[0] = np.dot(W, img_test[i])\n",
        "    diffrence[j] = (np.subtract(prediction[0], 1)) * (np.subtract(prediction[0], 1))\n",
        "\n",
        "  minimum = np.amin(diffrence) \n",
        "  result[i] = np.where(diffrence == minimum)[0][0]"
      ]
    },
    {
      "cell_type": "code",
      "execution_count": 44,
      "metadata": {
        "colab": {
          "base_uri": "https://localhost:8080/",
          "height": 300
        },
        "id": "2yDzByDr9_cT",
        "outputId": "a7e19725-bdce-4d64-ec06-38b03bf3fb06"
      },
      "outputs": [
        {
          "data": {
            "text/plain": [
              "<sklearn.metrics._plot.confusion_matrix.ConfusionMatrixDisplay at 0x7f9a21491c40>"
            ]
          },
          "execution_count": 44,
          "metadata": {},
          "output_type": "execute_result"
        },
        {
          "data": {
            "image/png": "[encoded data removed]",
            "text/plain": [
              "<Figure size 432x288 with 2 Axes>"
            ]
          },
          "metadata": {
            "needs_background": "light"
          },
          "output_type": "display_data"
        }
      ],
      "source": [
        "test_Labels = np.genfromtxt(\"/content/Data/Test/Test Labels.txt\", delimiter = \",\")\n",
        "ConfusionMatrixDisplay(confusion_matrix(test_Labels, result)).plot()"
      ]
    }
  ],
  "metadata": {
    "colab": {
      "provenance": []
    },
    "kernelspec": {
      "display_name": "Python 3",
      "language": "python",
      "name": "python3"
    },
    "language_info": {
      "name": "python",
      "version": "3.10.4 (tags/v3.10.4:9d38120, Mar 23 2022, 23:13:41) [MSC v.1929 64 bit (AMD64)]"
    },
    "vscode": {
      "interpreter": {
        "hash": "369f2c481f4da34e4445cda3fffd2e751bd1c4d706f27375911949ba6bb62e1c"
      }
    }
  },
  "nbformat": 4,
  "nbformat_minor": 0
}
